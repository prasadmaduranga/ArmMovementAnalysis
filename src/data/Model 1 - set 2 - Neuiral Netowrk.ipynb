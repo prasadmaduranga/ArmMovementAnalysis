{
 "cells": [
  {
   "cell_type": "code",
   "execution_count": null,
   "id": "899d39c0",
   "metadata": {
    "pycharm": {
     "name": "#%%\n",
     "is_executing": true
    }
   },
   "outputs": [],
   "source": [
    "import tensorflow as tf\n",
    "import numpy as np\n",
    "import pandas as pd\n",
    "import matplotlib.pyplot as plt\n",
    "import seaborn as sns\n",
    "from IPython.display import display, Image\n",
    "from pandas import get_dummies\n",
    "from sklearn.model_selection import train_test_split\n",
    "from tensorflow import keras\n",
    "from tensorflow.keras.models import Sequential\n",
    "\n",
    "# Config the matlotlib backend as plotting inline in IPython\n",
    "%matplotlib inline\n",
    "# install tttensorflow\n",
    "#  why this error No module named 'tensorflow'\n",
    "#  https://stackoverflow.com/questions/42177658/importerror-no-module-named-tensorflow\n"
   ]
  },
  {
   "cell_type": "code",
   "execution_count": 28,
   "id": "b1084148",
   "metadata": {
    "pycharm": {
     "name": "#%%\n"
    }
   },
   "outputs": [
    {
     "data": {
      "text/html": [
       "<div>\n",
       "<style scoped>\n",
       "    .dataframe tbody tr th:only-of-type {\n",
       "        vertical-align: middle;\n",
       "    }\n",
       "\n",
       "    .dataframe tbody tr th {\n",
       "        vertical-align: top;\n",
       "    }\n",
       "\n",
       "    .dataframe thead th {\n",
       "        text-align: right;\n",
       "    }\n",
       "</style>\n",
       "<table border=\"1\" class=\"dataframe\">\n",
       "  <thead>\n",
       "    <tr style=\"text-align: right;\">\n",
       "      <th></th>\n",
       "      <th>ID</th>\n",
       "      <th>RIGHT_WRIST_THUMB_CMC_MCP</th>\n",
       "      <th>RIGHT_THUMB_CMC_MCP_IP</th>\n",
       "      <th>RIGHT_THUMB_MCP_IP_TIP</th>\n",
       "      <th>RIGHT_WRIST_INDEX_FINGER_MCP_PIP</th>\n",
       "      <th>RIGHT_INDEX_FINGER_MCP_PIP_DIP</th>\n",
       "      <th>RIGHT_INDEX_FINGER_PIP_DIP_TIP</th>\n",
       "      <th>RIGHT_WRIST_MIDDLE_FINGER_MCP_PIP</th>\n",
       "      <th>RIGHT_MIDDLE_FINGER_MCP_PIP_DIP</th>\n",
       "      <th>RIGHT_MIDDLE_FINGER_PIP_DIP_TIP</th>\n",
       "      <th>...</th>\n",
       "      <th>RIGHT_THUMB_CMC_TIP</th>\n",
       "      <th>RIGHT_INDEX_MCP_TIP</th>\n",
       "      <th>RIGHT_MIDDLE_MCP_TIP</th>\n",
       "      <th>RIGHT_RING_MCP_TIP</th>\n",
       "      <th>RIGHT_PINKY_MCP_TIP</th>\n",
       "      <th>RIGHT_THUMB_TIP_INDEX_TIP</th>\n",
       "      <th>RIGHT_INDEX_TIP_MIDDLE_TIP</th>\n",
       "      <th>RIGHT_MIDDLE_TIP_RING_TIP</th>\n",
       "      <th>RIGHT_RING_TIP_PINKY_TIP</th>\n",
       "      <th>WORD_CLASS</th>\n",
       "    </tr>\n",
       "  </thead>\n",
       "  <tbody>\n",
       "    <tr>\n",
       "      <th>0</th>\n",
       "      <td>008_010_003</td>\n",
       "      <td>156.47</td>\n",
       "      <td>173.04</td>\n",
       "      <td>159.29</td>\n",
       "      <td>164.07</td>\n",
       "      <td>175.25</td>\n",
       "      <td>179.48</td>\n",
       "      <td>170.86</td>\n",
       "      <td>176.79</td>\n",
       "      <td>179.48</td>\n",
       "      <td>...</td>\n",
       "      <td>0.083330</td>\n",
       "      <td>0.086844</td>\n",
       "      <td>0.097826</td>\n",
       "      <td>0.091649</td>\n",
       "      <td>0.073775</td>\n",
       "      <td>0.097789</td>\n",
       "      <td>0.020224</td>\n",
       "      <td>0.017980</td>\n",
       "      <td>0.032393</td>\n",
       "      <td>8</td>\n",
       "    </tr>\n",
       "    <tr>\n",
       "      <th>1</th>\n",
       "      <td>008_010_003</td>\n",
       "      <td>156.32</td>\n",
       "      <td>174.34</td>\n",
       "      <td>154.93</td>\n",
       "      <td>163.84</td>\n",
       "      <td>175.88</td>\n",
       "      <td>178.60</td>\n",
       "      <td>170.48</td>\n",
       "      <td>176.59</td>\n",
       "      <td>179.41</td>\n",
       "      <td>...</td>\n",
       "      <td>0.085782</td>\n",
       "      <td>0.088386</td>\n",
       "      <td>0.096657</td>\n",
       "      <td>0.091018</td>\n",
       "      <td>0.073908</td>\n",
       "      <td>0.100653</td>\n",
       "      <td>0.018267</td>\n",
       "      <td>0.017139</td>\n",
       "      <td>0.032095</td>\n",
       "      <td>8</td>\n",
       "    </tr>\n",
       "    <tr>\n",
       "      <th>2</th>\n",
       "      <td>008_010_003</td>\n",
       "      <td>158.45</td>\n",
       "      <td>174.66</td>\n",
       "      <td>157.67</td>\n",
       "      <td>164.30</td>\n",
       "      <td>175.52</td>\n",
       "      <td>178.41</td>\n",
       "      <td>170.58</td>\n",
       "      <td>176.28</td>\n",
       "      <td>179.31</td>\n",
       "      <td>...</td>\n",
       "      <td>0.086876</td>\n",
       "      <td>0.087243</td>\n",
       "      <td>0.096519</td>\n",
       "      <td>0.089335</td>\n",
       "      <td>0.072003</td>\n",
       "      <td>0.099733</td>\n",
       "      <td>0.018859</td>\n",
       "      <td>0.017979</td>\n",
       "      <td>0.031717</td>\n",
       "      <td>8</td>\n",
       "    </tr>\n",
       "    <tr>\n",
       "      <th>3</th>\n",
       "      <td>008_010_003</td>\n",
       "      <td>159.30</td>\n",
       "      <td>174.36</td>\n",
       "      <td>157.45</td>\n",
       "      <td>163.99</td>\n",
       "      <td>175.74</td>\n",
       "      <td>178.78</td>\n",
       "      <td>170.42</td>\n",
       "      <td>176.64</td>\n",
       "      <td>179.68</td>\n",
       "      <td>...</td>\n",
       "      <td>0.085653</td>\n",
       "      <td>0.087580</td>\n",
       "      <td>0.096357</td>\n",
       "      <td>0.089479</td>\n",
       "      <td>0.071982</td>\n",
       "      <td>0.100771</td>\n",
       "      <td>0.018502</td>\n",
       "      <td>0.017843</td>\n",
       "      <td>0.032084</td>\n",
       "      <td>8</td>\n",
       "    </tr>\n",
       "    <tr>\n",
       "      <th>4</th>\n",
       "      <td>008_010_003</td>\n",
       "      <td>158.42</td>\n",
       "      <td>174.05</td>\n",
       "      <td>156.04</td>\n",
       "      <td>164.05</td>\n",
       "      <td>175.56</td>\n",
       "      <td>178.68</td>\n",
       "      <td>170.35</td>\n",
       "      <td>176.34</td>\n",
       "      <td>179.57</td>\n",
       "      <td>...</td>\n",
       "      <td>0.085948</td>\n",
       "      <td>0.087684</td>\n",
       "      <td>0.095810</td>\n",
       "      <td>0.089064</td>\n",
       "      <td>0.071732</td>\n",
       "      <td>0.101509</td>\n",
       "      <td>0.018484</td>\n",
       "      <td>0.017655</td>\n",
       "      <td>0.031607</td>\n",
       "      <td>8</td>\n",
       "    </tr>\n",
       "  </tbody>\n",
       "</table>\n",
       "<p>5 rows × 26 columns</p>\n",
       "</div>"
      ],
      "text/plain": [
       "            ID  RIGHT_WRIST_THUMB_CMC_MCP  RIGHT_THUMB_CMC_MCP_IP  \\\n",
       "0  008_010_003                     156.47                  173.04   \n",
       "1  008_010_003                     156.32                  174.34   \n",
       "2  008_010_003                     158.45                  174.66   \n",
       "3  008_010_003                     159.30                  174.36   \n",
       "4  008_010_003                     158.42                  174.05   \n",
       "\n",
       "   RIGHT_THUMB_MCP_IP_TIP  RIGHT_WRIST_INDEX_FINGER_MCP_PIP  \\\n",
       "0                  159.29                            164.07   \n",
       "1                  154.93                            163.84   \n",
       "2                  157.67                            164.30   \n",
       "3                  157.45                            163.99   \n",
       "4                  156.04                            164.05   \n",
       "\n",
       "   RIGHT_INDEX_FINGER_MCP_PIP_DIP  RIGHT_INDEX_FINGER_PIP_DIP_TIP  \\\n",
       "0                          175.25                          179.48   \n",
       "1                          175.88                          178.60   \n",
       "2                          175.52                          178.41   \n",
       "3                          175.74                          178.78   \n",
       "4                          175.56                          178.68   \n",
       "\n",
       "   RIGHT_WRIST_MIDDLE_FINGER_MCP_PIP  RIGHT_MIDDLE_FINGER_MCP_PIP_DIP  \\\n",
       "0                             170.86                           176.79   \n",
       "1                             170.48                           176.59   \n",
       "2                             170.58                           176.28   \n",
       "3                             170.42                           176.64   \n",
       "4                             170.35                           176.34   \n",
       "\n",
       "   RIGHT_MIDDLE_FINGER_PIP_DIP_TIP  ...  RIGHT_THUMB_CMC_TIP  \\\n",
       "0                           179.48  ...             0.083330   \n",
       "1                           179.41  ...             0.085782   \n",
       "2                           179.31  ...             0.086876   \n",
       "3                           179.68  ...             0.085653   \n",
       "4                           179.57  ...             0.085948   \n",
       "\n",
       "   RIGHT_INDEX_MCP_TIP  RIGHT_MIDDLE_MCP_TIP  RIGHT_RING_MCP_TIP  \\\n",
       "0             0.086844              0.097826            0.091649   \n",
       "1             0.088386              0.096657            0.091018   \n",
       "2             0.087243              0.096519            0.089335   \n",
       "3             0.087580              0.096357            0.089479   \n",
       "4             0.087684              0.095810            0.089064   \n",
       "\n",
       "   RIGHT_PINKY_MCP_TIP  RIGHT_THUMB_TIP_INDEX_TIP  RIGHT_INDEX_TIP_MIDDLE_TIP  \\\n",
       "0             0.073775                   0.097789                    0.020224   \n",
       "1             0.073908                   0.100653                    0.018267   \n",
       "2             0.072003                   0.099733                    0.018859   \n",
       "3             0.071982                   0.100771                    0.018502   \n",
       "4             0.071732                   0.101509                    0.018484   \n",
       "\n",
       "   RIGHT_MIDDLE_TIP_RING_TIP  RIGHT_RING_TIP_PINKY_TIP  WORD_CLASS  \n",
       "0                   0.017980                  0.032393           8  \n",
       "1                   0.017139                  0.032095           8  \n",
       "2                   0.017979                  0.031717           8  \n",
       "3                   0.017843                  0.032084           8  \n",
       "4                   0.017655                  0.031607           8  \n",
       "\n",
       "[5 rows x 26 columns]"
      ]
     },
     "execution_count": 28,
     "metadata": {},
     "output_type": "execute_result"
    }
   ],
   "source": [
    "data = pd.read_csv('set2_features_video_landmarks_20220628_140331.csv', index_col = 0)\n",
    "\n",
    "data.head()"
   ]
  },
  {
   "cell_type": "code",
   "execution_count": 14,
   "id": "4bd6650d",
   "metadata": {
    "pycharm": {
     "name": "#%%\n"
    }
   },
   "outputs": [
    {
     "name": "stdout",
     "output_type": "stream",
     "text": [
      "Index(['RIGHT_WRIST_THUMB_CMC_MCP', 'RIGHT_THUMB_CMC_MCP_IP',\n",
      "       'RIGHT_THUMB_MCP_IP_TIP', 'RIGHT_WRIST_INDEX_FINGER_MCP_PIP',\n",
      "       'RIGHT_INDEX_FINGER_MCP_PIP_DIP', 'RIGHT_INDEX_FINGER_PIP_DIP_TIP',\n",
      "       'RIGHT_WRIST_MIDDLE_FINGER_MCP_PIP', 'RIGHT_MIDDLE_FINGER_MCP_PIP_DIP',\n",
      "       'RIGHT_MIDDLE_FINGER_PIP_DIP_TIP', 'RIGHT_WRIST_RING_FINGER_MCP_PIP',\n",
      "       'RIGHT_RING_FINGER_MCP_PIP_DIP', 'RIGHT_RING_FINGER_PIP_DIP_TIP',\n",
      "       'RIGHT_WRIST_PINKY_MCP_PIP', 'RIGHT_PINKY_MCP_PIP_DIP',\n",
      "       'RIGHT_PINKY_PIP_DIP_TIP', 'RIGHT_THUMB_CMC_TIP', 'RIGHT_INDEX_MCP_TIP',\n",
      "       'RIGHT_MIDDLE_MCP_TIP', 'RIGHT_RING_MCP_TIP', 'RIGHT_PINKY_MCP_TIP',\n",
      "       'RIGHT_THUMB_TIP_INDEX_TIP', 'RIGHT_INDEX_TIP_MIDDLE_TIP',\n",
      "       'RIGHT_MIDDLE_TIP_RING_TIP', 'RIGHT_RING_TIP_PINKY_TIP'],\n",
      "      dtype='object')\n",
      "WORD_CLASS\n"
     ]
    }
   ],
   "source": [
    "cols = data.columns\n",
    "len(cols)\n",
    "features = cols[1:25]\n",
    "labels = cols[25]\n",
    "print(features)\n",
    "print(labels)"
   ]
  },
  {
   "cell_type": "code",
   "execution_count": 29,
   "id": "d17d5fda",
   "metadata": {
    "pycharm": {
     "name": "#%%\n"
    }
   },
   "outputs": [
    {
     "data": {
      "text/plain": [
       "(54320, 26)"
      ]
     },
     "execution_count": 29,
     "metadata": {},
     "output_type": "execute_result"
    }
   ],
   "source": [
    "data.shape"
   ]
  },
  {
   "cell_type": "code",
   "execution_count": 15,
   "id": "37673e11",
   "metadata": {
    "pycharm": {
     "name": "#%%\n"
    }
   },
   "outputs": [
    {
     "name": "stdout",
     "output_type": "stream",
     "text": [
      "Averages\n",
      "ID                                            inf\n",
      "RIGHT_WRIST_THUMB_CMC_MCP            1.807524e-14\n",
      "RIGHT_THUMB_CMC_MCP_IP              -5.986128e-14\n",
      "RIGHT_THUMB_MCP_IP_TIP               2.685791e-15\n",
      "RIGHT_WRIST_INDEX_FINGER_MCP_PIP     1.202688e-13\n",
      "RIGHT_INDEX_FINGER_MCP_PIP_DIP       1.141235e-13\n",
      "RIGHT_INDEX_FINGER_PIP_DIP_TIP      -1.761274e-15\n",
      "RIGHT_WRIST_MIDDLE_FINGER_MCP_PIP    5.908496e-14\n",
      "RIGHT_MIDDLE_FINGER_MCP_PIP_DIP     -1.842532e-14\n",
      "RIGHT_MIDDLE_FINGER_PIP_DIP_TIP      3.437236e-15\n",
      "RIGHT_WRIST_RING_FINGER_MCP_PIP     -2.254845e-14\n",
      "RIGHT_RING_FINGER_MCP_PIP_DIP        2.893794e-14\n",
      "RIGHT_RING_FINGER_PIP_DIP_TIP       -4.834361e-14\n",
      "RIGHT_WRIST_PINKY_MCP_PIP            3.921694e-14\n",
      "RIGHT_PINKY_MCP_PIP_DIP             -7.708845e-15\n",
      "RIGHT_PINKY_PIP_DIP_TIP             -4.341855e-15\n",
      "RIGHT_THUMB_CMC_TIP                  1.429026e-14\n",
      "RIGHT_INDEX_MCP_TIP                  2.377596e-14\n",
      "RIGHT_MIDDLE_MCP_TIP                -1.726125e-14\n",
      "RIGHT_RING_MCP_TIP                   2.094475e-15\n",
      "RIGHT_PINKY_MCP_TIP                 -1.910825e-14\n",
      "RIGHT_THUMB_TIP_INDEX_TIP           -1.658673e-14\n",
      "RIGHT_INDEX_TIP_MIDDLE_TIP          -1.167745e-15\n",
      "RIGHT_MIDDLE_TIP_RING_TIP            5.542860e-15\n",
      "RIGHT_RING_TIP_PINKY_TIP             2.003971e-14\n",
      "WORD_CLASS                           5.439543e+00\n",
      "dtype: float64\n",
      "\n",
      " Deviations\n",
      "RIGHT_WRIST_THUMB_CMC_MCP            1.000000\n",
      "RIGHT_THUMB_CMC_MCP_IP               1.000000\n",
      "RIGHT_THUMB_MCP_IP_TIP               1.000000\n",
      "RIGHT_WRIST_INDEX_FINGER_MCP_PIP     1.000000\n",
      "RIGHT_INDEX_FINGER_MCP_PIP_DIP       1.000000\n",
      "RIGHT_INDEX_FINGER_PIP_DIP_TIP       1.000000\n",
      "RIGHT_WRIST_MIDDLE_FINGER_MCP_PIP    1.000000\n",
      "RIGHT_MIDDLE_FINGER_MCP_PIP_DIP      1.000000\n",
      "RIGHT_MIDDLE_FINGER_PIP_DIP_TIP      1.000000\n",
      "RIGHT_WRIST_RING_FINGER_MCP_PIP      1.000000\n",
      "RIGHT_RING_FINGER_MCP_PIP_DIP        1.000000\n",
      "RIGHT_RING_FINGER_PIP_DIP_TIP        1.000000\n",
      "RIGHT_WRIST_PINKY_MCP_PIP            1.000000\n",
      "RIGHT_PINKY_MCP_PIP_DIP              1.000000\n",
      "RIGHT_PINKY_PIP_DIP_TIP              1.000000\n",
      "RIGHT_THUMB_CMC_TIP                  1.000000\n",
      "RIGHT_INDEX_MCP_TIP                  1.000000\n",
      "RIGHT_MIDDLE_MCP_TIP                 1.000000\n",
      "RIGHT_RING_MCP_TIP                   1.000000\n",
      "RIGHT_PINKY_MCP_TIP                  1.000000\n",
      "RIGHT_THUMB_TIP_INDEX_TIP            1.000000\n",
      "RIGHT_INDEX_TIP_MIDDLE_TIP           1.000000\n",
      "RIGHT_MIDDLE_TIP_RING_TIP            1.000000\n",
      "RIGHT_RING_TIP_PINKY_TIP             1.000000\n",
      "WORD_CLASS                           7.957574\n",
      "dtype: float64\n"
     ]
    },
    {
     "name": "stderr",
     "output_type": "stream",
     "text": [
      "/var/folders/yr/dx0mkq893512htnm00g0sjgh0000gn/T/ipykernel_66827/3070494393.py:12: FutureWarning: Dropping of nuisance columns in DataFrame reductions (with 'numeric_only=None') is deprecated; in a future version this will raise TypeError.  Select only valid columns before calling the reduction.\n",
      "  print(pow(data.std(),2))\n"
     ]
    }
   ],
   "source": [
    "data_norm = pd.DataFrame(data)\n",
    "\n",
    "for feature in features:\n",
    "    data[feature] = (data[feature] - data[feature].mean())/data[feature].std()\n",
    "\n",
    "#Show that should now have zero mean\n",
    "print(\"Averages\")\n",
    "print(data.mean())\n",
    "\n",
    "print(\"\\n Deviations\")\n",
    "#Show that we have equal variance\n",
    "print(pow(data.std(),2))"
   ]
  },
  {
   "cell_type": "code",
   "execution_count": 16,
   "id": "0a6beaa7",
   "metadata": {
    "pycharm": {
     "name": "#%%\n"
    }
   },
   "outputs": [],
   "source": [
    "indices = data_norm.index.tolist()\n",
    "indices = np.array(indices)\n",
    "np.random.shuffle(indices)\n",
    "X = data_norm.reindex(indices)[features]\n",
    "y = data_norm.reindex(indices)[labels]"
   ]
  },
  {
   "cell_type": "code",
   "execution_count": 17,
   "id": "b294df0a",
   "metadata": {
    "pycharm": {
     "name": "#%%\n"
    }
   },
   "outputs": [],
   "source": [
    "y = get_dummies(y)"
   ]
  },
  {
   "cell_type": "code",
   "execution_count": 19,
   "id": "5ceb0601",
   "metadata": {
    "pycharm": {
     "name": "#%%\n"
    }
   },
   "outputs": [],
   "source": [
    "X_train, X_test, y_train, y_test = train_test_split(X,y, test_size=.1)\n",
    "X_train, X_val, y_train, y_val = train_test_split(X_train,y_train, test_size=.1)\n",
    "\n",
    "# Convert to np arrays so that we can use with TensorFlow\n",
    "X_train = np.array(X_train).astype(np.float32)\n",
    "X_test  = np.array(X_test).astype(np.float32)\n",
    "X_val = np.array(X_val).astype(np.float32)\n",
    "\n",
    "y_train = np.array(y_train).astype(np.float32)\n",
    "y_test  = np.array(y_test).astype(np.float32)\n",
    "y_val  = np.array(y_val).astype(np.float32)"
   ]
  },
  {
   "cell_type": "code",
   "execution_count": 20,
   "id": "0e8d5fc3",
   "metadata": {
    "pycharm": {
     "name": "#%%\n"
    }
   },
   "outputs": [
    {
     "name": "stdout",
     "output_type": "stream",
     "text": [
      "(43999, 24) (43999, 10)\n",
      "(5432, 24) (5432, 10)\n",
      "(4889, 24) (4889, 10)\n"
     ]
    }
   ],
   "source": [
    "#Check to make sure split still has 4 features and 3 labels\n",
    "print(X_train.shape, y_train.shape)\n",
    "print(X_test.shape, y_test.shape)\n",
    "print(X_val.shape, y_val.shape)"
   ]
  },
  {
   "cell_type": "code",
   "execution_count": 22,
   "id": "2e4d8b87",
   "metadata": {
    "pycharm": {
     "name": "#%%\n"
    }
   },
   "outputs": [],
   "source": [
    "def get_model():\n",
    "    model = Sequential([\n",
    "        keras.layers.Input(shape=X_train.shape[1:]),\n",
    "        keras.layers.Dense(24, activation='relu'),\n",
    "        keras.layers.Dense(20, activation='relu',),\n",
    "        keras.layers.Dense(10, activation='relu'),\n",
    "        keras.layers.Dropout(0.2),\n",
    "        keras.layers.Dense(10, activation='softmax')\n",
    "    ])\n",
    "    \n",
    "    return model"
   ]
  },
  {
   "cell_type": "code",
   "execution_count": 23,
   "id": "c52f2151",
   "metadata": {
    "pycharm": {
     "name": "#%%\n"
    }
   },
   "outputs": [
    {
     "name": "stderr",
     "output_type": "stream",
     "text": [
      "2022-06-30 12:56:52.810783: I tensorflow/core/platform/cpu_feature_guard.cc:193] This TensorFlow binary is optimized with oneAPI Deep Neural Network Library (oneDNN) to use the following CPU instructions in performance-critical operations:  AVX2 FMA\n",
      "To enable them in other operations, rebuild TensorFlow with the appropriate compiler flags.\n"
     ]
    }
   ],
   "source": [
    "model = get_model()\n",
    "\n",
    "# Compile the model\n",
    "model.compile(optimizer='adam', \n",
    "              loss=keras.losses.CategoricalCrossentropy(),\n",
    "             metrics=['accuracy'])"
   ]
  },
  {
   "cell_type": "code",
   "execution_count": 24,
   "id": "0d9feedd",
   "metadata": {
    "pycharm": {
     "name": "#%%\n"
    }
   },
   "outputs": [
    {
     "name": "stdout",
     "output_type": "stream",
     "text": [
      "Model: \"sequential\"\n",
      "_________________________________________________________________\n",
      " Layer (type)                Output Shape              Param #   \n",
      "=================================================================\n",
      " dense (Dense)               (None, 24)                600       \n",
      "                                                                 \n",
      " dense_1 (Dense)             (None, 20)                500       \n",
      "                                                                 \n",
      " dense_2 (Dense)             (None, 10)                210       \n",
      "                                                                 \n",
      " dropout (Dropout)           (None, 10)                0         \n",
      "                                                                 \n",
      " dense_3 (Dense)             (None, 10)                110       \n",
      "                                                                 \n",
      "=================================================================\n",
      "Total params: 1,420\n",
      "Trainable params: 1,420\n",
      "Non-trainable params: 0\n",
      "_________________________________________________________________\n"
     ]
    }
   ],
   "source": [
    "model.summary()"
   ]
  },
  {
   "cell_type": "code",
   "execution_count": 25,
   "id": "2937f892",
   "metadata": {
    "pycharm": {
     "name": "#%%\n"
    }
   },
   "outputs": [
    {
     "name": "stdout",
     "output_type": "stream",
     "text": [
      "Epoch 1/30\n",
      "1375/1375 [==============================] - 2s 1ms/step - loss: 0.6383 - accuracy: 0.7718 - val_loss: 0.1680 - val_accuracy: 0.9362\n",
      "Epoch 2/30\n",
      "1375/1375 [==============================] - 1s 906us/step - loss: 0.2918 - accuracy: 0.8913 - val_loss: 0.1312 - val_accuracy: 0.9538\n",
      "Epoch 3/30\n",
      "1375/1375 [==============================] - 1s 786us/step - loss: 0.2449 - accuracy: 0.9103 - val_loss: 0.1216 - val_accuracy: 0.9507\n",
      "Epoch 4/30\n",
      "1375/1375 [==============================] - 1s 783us/step - loss: 0.2203 - accuracy: 0.9192 - val_loss: 0.1121 - val_accuracy: 0.9589\n",
      "Epoch 5/30\n",
      "1375/1375 [==============================] - 1s 788us/step - loss: 0.2008 - accuracy: 0.9289 - val_loss: 0.0960 - val_accuracy: 0.9673\n",
      "Epoch 6/30\n",
      "1375/1375 [==============================] - 1s 792us/step - loss: 0.1829 - accuracy: 0.9354 - val_loss: 0.0846 - val_accuracy: 0.9720\n",
      "Epoch 7/30\n",
      "1375/1375 [==============================] - 1s 817us/step - loss: 0.1748 - accuracy: 0.9389 - val_loss: 0.0764 - val_accuracy: 0.9726\n",
      "Epoch 8/30\n",
      "1375/1375 [==============================] - 1s 789us/step - loss: 0.1656 - accuracy: 0.9435 - val_loss: 0.0760 - val_accuracy: 0.9708\n",
      "Epoch 9/30\n",
      "1375/1375 [==============================] - 1s 848us/step - loss: 0.1618 - accuracy: 0.9453 - val_loss: 0.0742 - val_accuracy: 0.9740\n",
      "Epoch 10/30\n",
      "1375/1375 [==============================] - 1s 826us/step - loss: 0.1555 - accuracy: 0.9459 - val_loss: 0.0695 - val_accuracy: 0.9773\n",
      "Epoch 11/30\n",
      "1375/1375 [==============================] - 1s 806us/step - loss: 0.1476 - accuracy: 0.9513 - val_loss: 0.0718 - val_accuracy: 0.9748\n",
      "Epoch 12/30\n",
      "1375/1375 [==============================] - 1s 794us/step - loss: 0.1466 - accuracy: 0.9510 - val_loss: 0.0636 - val_accuracy: 0.9769\n",
      "Epoch 13/30\n",
      "1375/1375 [==============================] - 1s 823us/step - loss: 0.1419 - accuracy: 0.9540 - val_loss: 0.0624 - val_accuracy: 0.9781\n",
      "Epoch 14/30\n",
      "1375/1375 [==============================] - 1s 900us/step - loss: 0.1350 - accuracy: 0.9553 - val_loss: 0.0602 - val_accuracy: 0.9769\n",
      "Epoch 15/30\n",
      "1375/1375 [==============================] - 1s 811us/step - loss: 0.1368 - accuracy: 0.9557 - val_loss: 0.0549 - val_accuracy: 0.9812\n",
      "Epoch 16/30\n",
      "1375/1375 [==============================] - 1s 877us/step - loss: 0.1301 - accuracy: 0.9580 - val_loss: 0.0665 - val_accuracy: 0.9742\n",
      "Epoch 17/30\n",
      "1375/1375 [==============================] - 1s 830us/step - loss: 0.1311 - accuracy: 0.9579 - val_loss: 0.0566 - val_accuracy: 0.9806\n",
      "Epoch 18/30\n",
      "1375/1375 [==============================] - 1s 1ms/step - loss: 0.1307 - accuracy: 0.9573 - val_loss: 0.0551 - val_accuracy: 0.9814\n",
      "Epoch 19/30\n",
      "1375/1375 [==============================] - 1s 804us/step - loss: 0.1247 - accuracy: 0.9594 - val_loss: 0.0519 - val_accuracy: 0.9816\n",
      "Epoch 20/30\n",
      "1375/1375 [==============================] - 1s 803us/step - loss: 0.1215 - accuracy: 0.9612 - val_loss: 0.0503 - val_accuracy: 0.9816\n",
      "Epoch 21/30\n",
      "1375/1375 [==============================] - 1s 802us/step - loss: 0.1192 - accuracy: 0.9620 - val_loss: 0.0578 - val_accuracy: 0.9810\n",
      "Epoch 22/30\n",
      "1375/1375 [==============================] - 1s 802us/step - loss: 0.1125 - accuracy: 0.9639 - val_loss: 0.0509 - val_accuracy: 0.9816\n",
      "Epoch 23/30\n",
      "1375/1375 [==============================] - 1s 801us/step - loss: 0.1129 - accuracy: 0.9638 - val_loss: 0.0470 - val_accuracy: 0.9838\n",
      "Epoch 24/30\n",
      "1375/1375 [==============================] - 1s 871us/step - loss: 0.1127 - accuracy: 0.9640 - val_loss: 0.0505 - val_accuracy: 0.9838\n",
      "Epoch 25/30\n",
      "1375/1375 [==============================] - 1s 837us/step - loss: 0.1074 - accuracy: 0.9659 - val_loss: 0.0505 - val_accuracy: 0.9826\n",
      "Epoch 26/30\n",
      "1375/1375 [==============================] - 1s 853us/step - loss: 0.1085 - accuracy: 0.9672 - val_loss: 0.0447 - val_accuracy: 0.9838\n",
      "Epoch 27/30\n",
      "1375/1375 [==============================] - 1s 808us/step - loss: 0.1085 - accuracy: 0.9657 - val_loss: 0.0504 - val_accuracy: 0.9834\n",
      "Epoch 28/30\n",
      "1375/1375 [==============================] - 1s 809us/step - loss: 0.0987 - accuracy: 0.9687 - val_loss: 0.0494 - val_accuracy: 0.9838\n",
      "Epoch 29/30\n",
      "1375/1375 [==============================] - 1s 825us/step - loss: 0.1015 - accuracy: 0.9686 - val_loss: 0.0448 - val_accuracy: 0.9859\n",
      "Epoch 30/30\n",
      "1375/1375 [==============================] - 1s 870us/step - loss: 0.0995 - accuracy: 0.9681 - val_loss: 0.0423 - val_accuracy: 0.9847\n"
     ]
    }
   ],
   "source": [
    "history = model.fit(X_train, y_train, epochs=30, validation_data=(X_val, y_val), verbose=1)"
   ]
  },
  {
   "cell_type": "code",
   "execution_count": 26,
   "id": "09b0ff49",
   "metadata": {
    "pycharm": {
     "name": "#%%\n"
    }
   },
   "outputs": [
    {
     "name": "stdout",
     "output_type": "stream",
     "text": [
      "170/170 [==============================] - 0s 689us/step - loss: 0.0531 - accuracy: 0.9853\n"
     ]
    },
    {
     "data": {
      "text/plain": [
       "[0.05309254676103592, 0.9852724671363831]"
      ]
     },
     "execution_count": 26,
     "metadata": {},
     "output_type": "execute_result"
    }
   ],
   "source": [
    "model.evaluate(X_test, y_test)"
   ]
  },
  {
   "cell_type": "code",
   "execution_count": 27,
   "id": "d3b601ab",
   "metadata": {
    "pycharm": {
     "name": "#%%\n"
    }
   },
   "outputs": [
    {
     "data": {
      "image/png": "[encoded data removed]",
      "text/plain": [
       "<Figure size 720x432 with 1 Axes>"
      ]
     },
     "metadata": {
      "needs_background": "light"
     },
     "output_type": "display_data"
    }
   ],
   "source": [
    "pd.DataFrame(history.history).plot(figsize=(10,6))\n",
    "plt.grid(True)\n",
    "plt.gca().set_ylim(0, 1)\n",
    "plt.show()"
   ]
  },
  {
   "cell_type": "code",
   "execution_count": null,
   "id": "f7bbcf28",
   "metadata": {
    "pycharm": {
     "name": "#%%\n"
    }
   },
   "outputs": [],
   "source": [
    "tf.math.confusion_matrix(\n",
    "    labels,\n",
    "    predictions,\n",
    "    num_classes=None,\n",
    "    weights=None,\n",
    "    dtype=tf.dtypes.int32,\n",
    "    name=None\n",
    ")"
   ]
  },
  {
   "cell_type": "code",
   "execution_count": null,
   "id": "0598bb90",
   "metadata": {
    "pycharm": {
     "name": "#%%\n"
    }
   },
   "outputs": [],
   "source": []
  }
 ],
 "metadata": {
  "kernelspec": {
   "display_name": "Python 3 (ipykernel)",
   "language": "python",
   "name": "python3"
  },
  "language_info": {
   "codemirror_mode": {
    "name": "ipython",
    "version": 3
   },
   "file_extension": ".py",
   "mimetype": "text/x-python",
   "name": "python",
   "nbconvert_exporter": "python",
   "pygments_lexer": "ipython3",
   "version": "3.10.11"
  }
 },
 "nbformat": 4,
 "nbformat_minor": 5
}